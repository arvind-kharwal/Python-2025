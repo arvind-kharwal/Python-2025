{
 "cells": [
  {
   "cell_type": "code",
   "execution_count": null,
   "id": "e7ec8547-f206-4476-abfa-95d7222cea6a",
   "metadata": {},
   "outputs": [],
   "source": []
  }
 ],
 "metadata": {
  "kernelspec": {
   "display_name": "",
   "name": ""
  },
  "language_info": {
   "name": ""
  }
 },
 "nbformat": 4,
 "nbformat_minor": 5
}
