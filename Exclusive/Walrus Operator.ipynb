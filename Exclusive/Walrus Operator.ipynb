{
 "cells": [
  {
   "cell_type": "code",
   "execution_count": 1,
   "id": "e7ec8547-f206-4476-abfa-95d7222cea6a",
   "metadata": {},
   "outputs": [
    {
     "name": "stdout",
     "output_type": "stream",
     "text": [
      "[6, 8, 10]\n"
     ]
    }
   ],
   "source": [
    "data = [1, 2, 3, 4, 5]\n",
    "result = [y for x in data if (y := x * 2) > 5]\n",
    "print(result) "
   ]
  },
  {
   "cell_type": "code",
   "execution_count": 4,
   "id": "d5b8f256-fb5e-4ed4-85e4-a95593ef25cd",
   "metadata": {},
   "outputs": [
    {
     "name": "stdin",
     "output_type": "stream",
     "text": [
      "Enter text (or 'quit' to exit):  Hello\n"
     ]
    },
    {
     "name": "stdout",
     "output_type": "stream",
     "text": [
      "You entered: Hello\n"
     ]
    },
    {
     "name": "stdin",
     "output_type": "stream",
     "text": [
      "Enter text (or 'quit' to exit):  quit\n"
     ]
    }
   ],
   "source": [
    "while (line := input(\"Enter text (or 'quit' to exit): \")) != 'quit':\n",
    "    print(f\"You entered: {line}\")"
   ]
  },
  {
   "cell_type": "code",
   "execution_count": 9,
   "id": "cfa215c0-33e6-4b40-a63e-1ed6b55f4b5b",
   "metadata": {},
   "outputs": [
    {
     "name": "stdout",
     "output_type": "stream",
     "text": [
      " 3 elements are in the length\n"
     ]
    }
   ],
   "source": [
    "my_list = [1,2,3]\n",
    "if (n := len(my_list)) <5:\n",
    "    print(f\" {n} elements are in the length\")"
   ]
  },
  {
   "cell_type": "code",
   "execution_count": 13,
   "id": "0831a899-31ef-40ce-9c1f-35a212696231",
   "metadata": {},
   "outputs": [
    {
     "name": "stdout",
     "output_type": "stream",
     "text": [
      "5\n",
      "4\n",
      "3\n",
      "2\n",
      "1\n",
      "The list is []\n"
     ]
    }
   ],
   "source": [
    "numbers = [1, 2, 3, 4, 5]\n",
    "while (n := len(numbers)) > 0:\n",
    "    print(numbers.pop())\n",
    "else:\n",
    "    print('The list is',numbers)"
   ]
  }
 ],
 "metadata": {
  "kernelspec": {
   "display_name": "Python 3 (ipykernel)",
   "language": "python",
   "name": "python3"
  },
  "language_info": {
   "codemirror_mode": {
    "name": "ipython",
    "version": 3
   },
   "file_extension": ".py",
   "mimetype": "text/x-python",
   "name": "python",
   "nbconvert_exporter": "python",
   "pygments_lexer": "ipython3",
   "version": "3.13.1"
  }
 },
 "nbformat": 4,
 "nbformat_minor": 5
}
