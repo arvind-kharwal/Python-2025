{
 "cells": [
  {
   "cell_type": "code",
   "execution_count": 1,
   "id": "90311c89-a9a6-4fab-8cfe-77043ed34b3b",
   "metadata": {},
   "outputs": [
    {
     "name": "stdout",
     "output_type": "stream",
     "text": [
      "1\n",
      "2\n",
      "3\n",
      "4\n"
     ]
    }
   ],
   "source": [
    "i = 1\n",
    "while(i<5):\n",
    "    print(i)\n",
    "    i= i+1"
   ]
  },
  {
   "cell_type": "code",
   "execution_count": 12,
   "id": "59335b79-0899-4379-b090-91b3bd704e9f",
   "metadata": {},
   "outputs": [
    {
     "name": "stdin",
     "output_type": "stream",
     "text": [
      "Elements? 3\n",
      " 2\n",
      " 3\n",
      " 4\n"
     ]
    },
    {
     "name": "stdout",
     "output_type": "stream",
     "text": [
      "['2', '3', '4']\n"
     ]
    }
   ],
   "source": [
    "l = []\n",
    "el = int(input('Elements?'))\n",
    "for i in range(el):\n",
    "    v= input()\n",
    "    l.append(v)\n",
    "print(l)"
   ]
  },
  {
   "cell_type": "code",
   "execution_count": 13,
   "id": "39f8a2b7-a322-469e-8792-f5317629c017",
   "metadata": {},
   "outputs": [
    {
     "name": "stdin",
     "output_type": "stream",
     "text": [
      "Elements? 4\n",
      " 1\n",
      " 2\n",
      " 3\n",
      " 4\n"
     ]
    },
    {
     "name": "stdout",
     "output_type": "stream",
     "text": [
      "['1', '2', '3', '4']\n",
      "The length of the list is 4\n"
     ]
    }
   ],
   "source": [
    "l = []\n",
    "el = int(input('Elements?'))\n",
    "for i in range(el):\n",
    "    v= input()\n",
    "    l.append(v)\n",
    "print(l)\n",
    "n = len(l)\n",
    "if n < 2:\n",
    "    print(f\"The length of the list is {n}\")\n",
    "else:\n",
    "    print(f\"The length of the list is {n}\")"
   ]
  },
  {
   "cell_type": "code",
   "execution_count": null,
   "id": "e1f66c58-9981-4364-80ca-a89de4c0562d",
   "metadata": {},
   "outputs": [],
   "source": [
    "l = []\n",
    "el = int(input('Elements?'))\n",
    "for i in range(el):\n",
    "    v= input()\n",
    "    l.append(v)\n",
    "print(l)\n",
    "\n",
    "if (n:=len(l)) < 2:\n",
    "    print(f\"The length of the list is {n}\")\n",
    "else:\n",
    "    print('None')"
   ]
  },
  {
   "cell_type": "code",
   "execution_count": 5,
   "id": "5776df1d-156f-4110-b362-199566c47907",
   "metadata": {},
   "outputs": [
    {
     "name": "stdout",
     "output_type": "stream",
     "text": [
      "The length of the list is 4\n"
     ]
    }
   ],
   "source": [
    "l = [1,2,3,4]\n",
    "if (n := len(l)) < 10:\n",
    "    print(f\"The length of the list is {n}\")"
   ]
  },
  {
   "cell_type": "code",
   "execution_count": null,
   "id": "cba478d6-19dc-49a2-b7d5-56e00b818517",
   "metadata": {},
   "outputs": [],
   "source": []
  }
 ],
 "metadata": {
  "kernelspec": {
   "display_name": "Python 3 (ipykernel)",
   "language": "python",
   "name": "python3"
  },
  "language_info": {
   "codemirror_mode": {
    "name": "ipython",
    "version": 3
   },
   "file_extension": ".py",
   "mimetype": "text/x-python",
   "name": "python",
   "nbconvert_exporter": "python",
   "pygments_lexer": "ipython3",
   "version": "3.13.1"
  }
 },
 "nbformat": 4,
 "nbformat_minor": 5
}
