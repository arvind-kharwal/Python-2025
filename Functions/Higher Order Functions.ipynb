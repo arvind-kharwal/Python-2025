{
 "cells": [
  {
   "cell_type": "code",
   "execution_count": 1,
   "id": "438e5ccd-f337-4ef9-adb8-961cac09c094",
   "metadata": {},
   "outputs": [
    {
     "data": {
      "text/plain": [
       "'HELLO'"
      ]
     },
     "execution_count": 1,
     "metadata": {},
     "output_type": "execute_result"
    }
   ],
   "source": [
    "def display(fun):\n",
    "    return(fun)\n",
    "\n",
    "def uppercase(text):\n",
    "    return text.upper()\n",
    "\n",
    "display(uppercase('hello'))"
   ]
  }
 ],
 "metadata": {
  "kernelspec": {
   "display_name": "Python 3 (ipykernel)",
   "language": "python",
   "name": "python3"
  },
  "language_info": {
   "codemirror_mode": {
    "name": "ipython",
    "version": 3
   },
   "file_extension": ".py",
   "mimetype": "text/x-python",
   "name": "python",
   "nbconvert_exporter": "python",
   "pygments_lexer": "ipython3",
   "version": "3.13.1"
  }
 },
 "nbformat": 4,
 "nbformat_minor": 5
}
