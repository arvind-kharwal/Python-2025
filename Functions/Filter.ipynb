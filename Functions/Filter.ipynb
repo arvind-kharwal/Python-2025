{
 "cells": [
  {
   "cell_type": "code",
   "execution_count": 1,
   "id": "a0272366-cd19-4f12-a5f1-6b6a73b377da",
   "metadata": {},
   "outputs": [
    {
     "name": "stdout",
     "output_type": "stream",
     "text": [
      "False\n",
      "True\n",
      "False\n",
      "True\n",
      "False\n"
     ]
    }
   ],
   "source": [
    "l = [1,2,3,4,5]\n",
    "res = map(lambda x:x%2==0,l)\n",
    "for i in res:\n",
    "    print(i)"
   ]
  },
  {
   "cell_type": "code",
   "execution_count": 8,
   "id": "692935f5-c1e2-4edb-b0c8-6f8540cd08e5",
   "metadata": {},
   "outputs": [
    {
     "name": "stdout",
     "output_type": "stream",
     "text": [
      "['1 is odd', '2 is even', '3 is odd', '4 is even', '5 is odd']\n"
     ]
    }
   ],
   "source": [
    "def evenodd(n):\n",
    "    if n%2==0:\n",
    "        return f'{n} is even'\n",
    "    else:\n",
    "        return f'{n} is odd'\n",
    "\n",
    "l = [1,2,3,4,5]\n",
    "res = map(evenodd,l)\n",
    "print(list(res))"
   ]
  },
  {
   "cell_type": "code",
   "execution_count": 2,
   "id": "8ba81dea-0673-4eec-9966-1a50a7ae5977",
   "metadata": {},
   "outputs": [
    {
     "name": "stdout",
     "output_type": "stream",
     "text": [
      "[False, True, False, True, False]\n"
     ]
    }
   ],
   "source": [
    "def evenodd(n):\n",
    "    if n%2==0:\n",
    "        return True\n",
    "    else:\n",
    "        return False\n",
    "\n",
    "l = [1,2,3,4,5]\n",
    "res = map(evenodd,l)"
   ]
  },
  {
   "cell_type": "code",
   "execution_count": 5,
   "id": "2f7a06a3-e998-4a7c-93ec-fc1ff92fabdb",
   "metadata": {},
   "outputs": [
    {
     "name": "stdout",
     "output_type": "stream",
     "text": [
      "2\n",
      "4\n"
     ]
    }
   ],
   "source": [
    "def evenodd(n):\n",
    "    if n%2==0:\n",
    "        return True\n",
    "    else:\n",
    "        return False\n",
    "\n",
    "l = [1,2,3,4,5]\n",
    "res = filter(evenodd,l)\n",
    "for i in res:\n",
    "    print(i)"
   ]
  },
  {
   "cell_type": "code",
   "execution_count": 6,
   "id": "3cb7b6a0-cd44-407a-98ef-aa28a6fd0182",
   "metadata": {},
   "outputs": [
    {
     "name": "stdout",
     "output_type": "stream",
     "text": [
      "2\n",
      "4\n"
     ]
    }
   ],
   "source": [
    "l = [1,2,3,4,5]\n",
    "res = filter(lambda x:x%2==0,l)\n",
    "for i in res:\n",
    "    print(i)"
   ]
  },
  {
   "cell_type": "code",
   "execution_count": null,
   "id": "017bda89-8d66-414a-abe0-241bfe6814cb",
   "metadata": {},
   "outputs": [],
   "source": []
  }
 ],
 "metadata": {
  "kernelspec": {
   "display_name": "Python 3 (ipykernel)",
   "language": "python",
   "name": "python3"
  },
  "language_info": {
   "codemirror_mode": {
    "name": "ipython",
    "version": 3
   },
   "file_extension": ".py",
   "mimetype": "text/x-python",
   "name": "python",
   "nbconvert_exporter": "python",
   "pygments_lexer": "ipython3",
   "version": "3.13.1"
  }
 },
 "nbformat": 4,
 "nbformat_minor": 5
}
