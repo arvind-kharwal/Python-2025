{
 "cells": [
  {
   "cell_type": "code",
   "execution_count": 2,
   "id": "72ddf075-cf5d-4639-b806-e9164b90214d",
   "metadata": {},
   "outputs": [
    {
     "name": "stdin",
     "output_type": "stream",
     "text": [
      " \n"
     ]
    },
    {
     "ename": "ValueError",
     "evalue": "invalid literal for int() with base 10: ''",
     "output_type": "error",
     "traceback": [
      "\u001b[1;31m---------------------------------------------------------------------------\u001b[0m",
      "\u001b[1;31mValueError\u001b[0m                                Traceback (most recent call last)",
      "Cell \u001b[1;32mIn[2], line 1\u001b[0m\n\u001b[1;32m----> 1\u001b[0m a,b \u001b[38;5;241m=\u001b[39m \u001b[38;5;28;43mint\u001b[39;49m\u001b[43m(\u001b[49m\u001b[38;5;28;43minput\u001b[39;49m\u001b[43m(\u001b[49m\u001b[43m)\u001b[49m\u001b[43m)\u001b[49m\n\u001b[0;32m      2\u001b[0m \u001b[38;5;28mprint\u001b[39m(a,b)\n",
      "\u001b[1;31mValueError\u001b[0m: invalid literal for int() with base 10: ''"
     ]
    }
   ],
   "source": [
    "a,b = int(input())\n",
    "print(a,b)"
   ]
  },
  {
   "cell_type": "code",
   "execution_count": 2,
   "id": "13f078c1-7f45-43c2-ad5d-f0c2f2201bf6",
   "metadata": {},
   "outputs": [
    {
     "name": "stdin",
     "output_type": "stream",
     "text": [
      " 43\n"
     ]
    },
    {
     "name": "stdout",
     "output_type": "stream",
     "text": [
      "43 is not buzz number \n"
     ]
    }
   ],
   "source": [
    "n = int(input())\n",
    "if n%7==0 or n%10==7:\n",
    "    print(n,'is buzz number ')\n",
    "else:\n",
    "     print(n,'is not buzz number ')"
   ]
  },
  {
   "cell_type": "code",
   "execution_count": 5,
   "id": "147131cd-4770-40c4-82be-fb6bf9a65b54",
   "metadata": {},
   "outputs": [
    {
     "name": "stdin",
     "output_type": "stream",
     "text": [
      " 2020\n"
     ]
    },
    {
     "name": "stdout",
     "output_type": "stream",
     "text": [
      "2020 is leap year\n"
     ]
    }
   ],
   "source": [
    "y = int(input())\n",
    "if (y%100==0 and y%400==0) or (y%100!=0 and y%4==0):\n",
    "    print(y,'is leap year')\n",
    "else:\n",
    "    print(y,'is not a leap year')"
   ]
  },
  {
   "cell_type": "code",
   "execution_count": 9,
   "id": "733e0602-f592-4229-b95e-7f717494a9b6",
   "metadata": {},
   "outputs": [
    {
     "name": "stdin",
     "output_type": "stream",
     "text": [
      " 1002\n",
      " 2\n"
     ]
    },
    {
     "name": "stdout",
     "output_type": "stream",
     "text": [
      "1803.6\n"
     ]
    }
   ],
   "source": [
    "qty = int(input())\n",
    "ppi =  int(input())\n",
    "tot = qty*ppi\n",
    "if qty>1000:\n",
    "    tot = tot - tot*0.10\n",
    "print(tot)\n"
   ]
  },
  {
   "cell_type": "markdown",
   "id": "b47fbfda-fadd-4b38-b96a-470407e7e138",
   "metadata": {},
   "source": [
    "Match Case"
   ]
  },
  {
   "cell_type": "code",
   "execution_count": 14,
   "id": "2a4b46cc-38e8-40b2-905b-d43088b35a55",
   "metadata": {},
   "outputs": [
    {
     "name": "stdin",
     "output_type": "stream",
     "text": [
      " 2\n"
     ]
    },
    {
     "name": "stdout",
     "output_type": "stream",
     "text": [
      "B\n"
     ]
    }
   ],
   "source": [
    "n = int(input())\n",
    "match n:\n",
    "    case 1:\n",
    "        print('A')\n",
    "    case 2:\n",
    "        print('B')"
   ]
  },
  {
   "cell_type": "code",
   "execution_count": 16,
   "id": "c9027676-ee80-44f9-bf3b-db93e15ba89c",
   "metadata": {},
   "outputs": [
    {
     "name": "stdin",
     "output_type": "stream",
     "text": [
      " 2\n"
     ]
    },
    {
     "name": "stdout",
     "output_type": "stream",
     "text": [
      "B\n"
     ]
    }
   ],
   "source": [
    "n = int(input())\n",
    "match n:\n",
    "    case 1:\n",
    "        print('A')\n",
    "    case 2:\n",
    "        print('B')\n",
    "    case _:\n",
    "        print('Default')"
   ]
  },
  {
   "cell_type": "code",
   "execution_count": 21,
   "id": "e8b7a12e-05f7-44e9-9752-d9ce75dec5fa",
   "metadata": {},
   "outputs": [
    {
     "name": "stdin",
     "output_type": "stream",
     "text": [
      " 13\n"
     ]
    },
    {
     "name": "stdout",
     "output_type": "stream",
     "text": [
      "Correct Choice\n"
     ]
    }
   ],
   "source": [
    "n = int(input())\n",
    "match n:\n",
    "    case 1|2|3|4|5:\n",
    "        print('Week Day')\n",
    "    case 6|7:\n",
    "        print('Weekend')\n",
    "    case _:\n",
    "        print('Correct Choice')"
   ]
  },
  {
   "cell_type": "code",
   "execution_count": 29,
   "id": "c421aa18-ef52-4f1a-af45-acfb209f96fb",
   "metadata": {},
   "outputs": [
    {
     "name": "stdin",
     "output_type": "stream",
     "text": [
      " 6\n",
      " 6\n"
     ]
    },
    {
     "name": "stdout",
     "output_type": "stream",
     "text": [
      "Weekend of June\n"
     ]
    }
   ],
   "source": [
    "day = int(input())\n",
    "month =  int(input())\n",
    "match day:\n",
    "    case 1|2|3|4 if month==5:\n",
    "        print('Week Day of May')\n",
    "    case 6|7 if month==6:\n",
    "         print('Weekend of June')\n",
    "    case _:\n",
    "         print('No Match')"
   ]
  },
  {
   "cell_type": "code",
   "execution_count": 37,
   "id": "3575d4af-a48c-43f1-8d3f-140ada98fd02",
   "metadata": {},
   "outputs": [
    {
     "name": "stdin",
     "output_type": "stream",
     "text": [
      " 34\n"
     ]
    },
    {
     "name": "stdout",
     "output_type": "stream",
     "text": [
      "Positive\n"
     ]
    }
   ],
   "source": [
    "n = int(input())\n",
    "match n:\n",
    "    case 0:\n",
    "        print('Zero')\n",
    "    case n if n<0:\n",
    "        print('Negative')\n",
    "    case n if n>0:\n",
    "         print('Positive')"
   ]
  },
  {
   "cell_type": "code",
   "execution_count": 41,
   "id": "dfe45620-a534-41f2-a4cc-addc6815509e",
   "metadata": {},
   "outputs": [
    {
     "name": "stdin",
     "output_type": "stream",
     "text": [
      " 675\n"
     ]
    },
    {
     "name": "stdout",
     "output_type": "stream",
     "text": [
      "Senior\n"
     ]
    }
   ],
   "source": [
    "n = int(input())\n",
    "match n:\n",
    "    case n if n>0 and n<18:\n",
    "          print('Minor')\n",
    "    case n if n>18 and n<65:\n",
    "          print('Adult')\n",
    "    case n if n>65:\n",
    "          print('Senior')\n",
    "\n",
    "    "
   ]
  },
  {
   "cell_type": "code",
   "execution_count": null,
   "id": "48687d30-225d-4a9c-a988-b796acc322ed",
   "metadata": {},
   "outputs": [],
   "source": [
    "n = int(input())\n",
    "match n:\n",
    "    case n if n>0 and n<18:\n",
    "          print('Minor')\n",
    "    case n if 18<=n<65:\n",
    "          print('Adult')\n",
    "    case n if n>65:\n",
    "          print('Senior')\n",
    "    case _:\n",
    "          print('Enter correct choice')   "
   ]
  },
  {
   "cell_type": "code",
   "execution_count": null,
   "id": "5405583d-ae58-4781-8d03-d4690f358ea5",
   "metadata": {},
   "outputs": [],
   "source": []
  }
 ],
 "metadata": {
  "kernelspec": {
   "display_name": "Python 3 (ipykernel)",
   "language": "python",
   "name": "python3"
  },
  "language_info": {
   "codemirror_mode": {
    "name": "ipython",
    "version": 3
   },
   "file_extension": ".py",
   "mimetype": "text/x-python",
   "name": "python",
   "nbconvert_exporter": "python",
   "pygments_lexer": "ipython3",
   "version": "3.13.1"
  }
 },
 "nbformat": 4,
 "nbformat_minor": 5
}
