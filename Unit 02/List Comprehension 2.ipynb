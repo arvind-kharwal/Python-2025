{
 "cells": [
  {
   "cell_type": "markdown",
   "id": "b2a516e3-a879-4439-a350-176996554d7c",
   "metadata": {},
   "source": [
    "# Write a Python to iterate a list using list comprehension"
   ]
  },
  {
   "cell_type": "code",
   "execution_count": 1,
   "id": "d34aedfa-ae13-4b06-ad75-e8f65d4e9790",
   "metadata": {},
   "outputs": [
    {
     "data": {
      "text/plain": [
       "[1, 2, 3, 4, 5]"
      ]
     },
     "execution_count": 1,
     "metadata": {},
     "output_type": "execute_result"
    }
   ],
   "source": [
    "l = [1,2,3,4,5]\n",
    "[i for i in l]"
   ]
  },
  {
   "cell_type": "markdown",
   "id": "deee1e63-9187-4761-82c9-ee6e5f9fed03",
   "metadata": {},
   "source": [
    "# Python program to calculate the square of list of numbers using list comprehension. "
   ]
  },
  {
   "cell_type": "code",
   "execution_count": 2,
   "id": "e1e03c38-538a-4a80-9003-944f8c097c45",
   "metadata": {},
   "outputs": [
    {
     "data": {
      "text/plain": [
       "[1, 4, 9, 16, 25]"
      ]
     },
     "execution_count": 2,
     "metadata": {},
     "output_type": "execute_result"
    }
   ],
   "source": [
    "l = [1,2,3,4,5]\n",
    "[i**2 for i in l]"
   ]
  },
  {
   "cell_type": "code",
   "execution_count": 3,
   "id": "176919b7-7c21-46d4-b33a-f1d650b86389",
   "metadata": {},
   "outputs": [
    {
     "data": {
      "text/plain": [
       "[1, 2, 3, 4, 5]"
      ]
     },
     "execution_count": 3,
     "metadata": {},
     "output_type": "execute_result"
    }
   ],
   "source": [
    "l"
   ]
  },
  {
   "cell_type": "code",
   "execution_count": null,
   "id": "92ca703d-5f74-4a52-b53d-f78aeb064f9e",
   "metadata": {},
   "outputs": [],
   "source": [
    "Repeatition"
   ]
  },
  {
   "cell_type": "markdown",
   "id": "b17f49ef-bfc7-46c2-b279-3eceedb7d4e6",
   "metadata": {},
   "source": [
    "l*2"
   ]
  },
  {
   "attachments": {},
   "cell_type": "markdown",
   "id": "af369ca8-bfdd-40ba-a088-c5c335589614",
   "metadata": {},
   "source": [
    "# Write a Python program to calculate the cube of only positive numbers from the given list."
   ]
  },
  {
   "cell_type": "code",
   "execution_count": 7,
   "id": "f2b05300-1190-462e-a0b1-bd33f11c914e",
   "metadata": {},
   "outputs": [
    {
     "data": {
      "text/plain": [
       "[1, 27, 64, 125, 343]"
      ]
     },
     "execution_count": 7,
     "metadata": {},
     "output_type": "execute_result"
    }
   ],
   "source": [
    "L1 = [1,-2,3,4,-1,5,7]\n",
    "[i**3 for i in L1 if i>0]"
   ]
  },
  {
   "cell_type": "markdown",
   "id": "bcb37b44-36af-434e-9ab9-4ae6d35feb24",
   "metadata": {},
   "source": [
    "# Write a Python program to extract only the first character from the given string using list comprehension. \n"
   ]
  },
  {
   "cell_type": "code",
   "execution_count": 8,
   "id": "493d213d-1508-4d36-865f-e4d17453fb41",
   "metadata": {},
   "outputs": [
    {
     "data": {
      "text/plain": [
       "['P', 'H', 'J', 'C']"
      ]
     },
     "execution_count": 8,
     "metadata": {},
     "output_type": "execute_result"
    }
   ],
   "source": [
    "L2 = ['Python','Hello','Java','Class']\n",
    "[i[0] for i in L2]"
   ]
  },
  {
   "cell_type": "code",
   "execution_count": 23,
   "id": "72a23ed1-0f52-4934-8f2a-a23561c2dbd1",
   "metadata": {},
   "outputs": [
    {
     "data": {
      "text/plain": [
       "[1, 1, 2, 3, 3]"
      ]
     },
     "execution_count": 23,
     "metadata": {},
     "output_type": "execute_result"
    }
   ],
   "source": [
    "a = [1, 2, 3]\n",
    "b = [2, 7]\n",
    "[i for i in a for j in b if i != j]\n",
    "#print(num) \n"
   ]
  },
  {
   "cell_type": "markdown",
   "id": "e87fc84e-5b65-45fd-946e-46c827c6c910",
   "metadata": {},
   "source": [
    "# Print table of any number using list comprehension"
   ]
  },
  {
   "cell_type": "code",
   "execution_count": 3,
   "id": "2465bb25-b301-4f4e-a7d3-5f4dbc73e7b0",
   "metadata": {},
   "outputs": [
    {
     "name": "stdin",
     "output_type": "stream",
     "text": [
      " 4\n"
     ]
    },
    {
     "data": {
      "text/plain": [
       "[4, 8, 12, 16, 20, 24, 28, 32, 36, 40]"
      ]
     },
     "execution_count": 3,
     "metadata": {},
     "output_type": "execute_result"
    }
   ],
   "source": [
    "n = int(input())\n",
    "[n*i for i in range(1,11)]"
   ]
  },
  {
   "cell_type": "code",
   "execution_count": null,
   "id": "a288b73a-2fed-408c-948a-02fe0b8a1773",
   "metadata": {},
   "outputs": [],
   "source": [
    "# Print table of 1 to 10 number using list comprehension"
   ]
  },
  {
   "cell_type": "code",
   "execution_count": 8,
   "id": "8d1f728f-af21-44f3-9a7c-2822ae189a71",
   "metadata": {},
   "outputs": [
    {
     "data": {
      "text/plain": [
       "[3, 6, 9, 12, 15, 18, 21, 24, 27, 30]"
      ]
     },
     "execution_count": 8,
     "metadata": {},
     "output_type": "execute_result"
    }
   ],
   "source": [
    "[3*i for i in range(1,11)]"
   ]
  },
  {
   "cell_type": "code",
   "execution_count": 17,
   "id": "fa46b5fb-d829-4cbd-8cbd-579b87b94116",
   "metadata": {},
   "outputs": [
    {
     "name": "stdout",
     "output_type": "stream",
     "text": [
      "[1, 2, 3, 4, 5, 6, 7, 8, 9, 10]\n",
      "[2, 4, 6, 8, 10, 12, 14, 16, 18, 20]\n",
      "[3, 6, 9, 12, 15, 18, 21, 24, 27, 30]\n",
      "[4, 8, 12, 16, 20, 24, 28, 32, 36, 40]\n",
      "[5, 10, 15, 20, 25, 30, 35, 40, 45, 50]\n",
      "[6, 12, 18, 24, 30, 36, 42, 48, 54, 60]\n",
      "[7, 14, 21, 28, 35, 42, 49, 56, 63, 70]\n",
      "[8, 16, 24, 32, 40, 48, 56, 64, 72, 80]\n",
      "[9, 18, 27, 36, 45, 54, 63, 72, 81, 90]\n",
      "[10, 20, 30, 40, 50, 60, 70, 80, 90, 100]\n"
     ]
    }
   ],
   "source": [
    "for i in range(1, 11):\n",
    "    table= [i*j for j in range(1, 11)]\n",
    "    print(table)\n"
   ]
  },
  {
   "cell_type": "code",
   "execution_count": null,
   "id": "2233e5f8-f3fb-4f85-b866-efd8884bb56c",
   "metadata": {},
   "outputs": [],
   "source": []
  }
 ],
 "metadata": {
  "kernelspec": {
   "display_name": "Python 3 (ipykernel)",
   "language": "python",
   "name": "python3"
  },
  "language_info": {
   "codemirror_mode": {
    "name": "ipython",
    "version": 3
   },
   "file_extension": ".py",
   "mimetype": "text/x-python",
   "name": "python",
   "nbconvert_exporter": "python",
   "pygments_lexer": "ipython3",
   "version": "3.13.1"
  }
 },
 "nbformat": 4,
 "nbformat_minor": 5
}
