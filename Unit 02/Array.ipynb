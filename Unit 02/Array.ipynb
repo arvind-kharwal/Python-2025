{
 "cells": [
  {
   "cell_type": "code",
   "execution_count": 1,
   "id": "c7531d47-7895-45f4-a46f-20e1d47355e6",
   "metadata": {},
   "outputs": [],
   "source": [
    "import array as arr"
   ]
  },
  {
   "cell_type": "code",
   "execution_count": 2,
   "id": "0c075581-2fe0-41ca-a84b-02d4a0480a81",
   "metadata": {},
   "outputs": [],
   "source": [
    "a = arr.array('i',[1,2,3,4,5])"
   ]
  },
  {
   "cell_type": "code",
   "execution_count": 3,
   "id": "60b90c29-5ed0-4d39-8d0f-6620dcb0359b",
   "metadata": {},
   "outputs": [
    {
     "name": "stdout",
     "output_type": "stream",
     "text": [
      "array('i', [1, 2, 3, 4, 5])\n"
     ]
    }
   ],
   "source": [
    "print(a)"
   ]
  },
  {
   "cell_type": "code",
   "execution_count": null,
   "id": "16eff3d3-6062-44b6-b686-d3e58bd853e1",
   "metadata": {},
   "outputs": [],
   "source": [
    "a = arr.array('f',[1.2,2.3,3.3])"
   ]
  }
 ],
 "metadata": {
  "kernelspec": {
   "display_name": "Python 3 (ipykernel)",
   "language": "python",
   "name": "python3"
  },
  "language_info": {
   "codemirror_mode": {
    "name": "ipython",
    "version": 3
   },
   "file_extension": ".py",
   "mimetype": "text/x-python",
   "name": "python",
   "nbconvert_exporter": "python",
   "pygments_lexer": "ipython3",
   "version": "3.13.1"
  }
 },
 "nbformat": 4,
 "nbformat_minor": 5
}
