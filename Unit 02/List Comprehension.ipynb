{
 "cells": [
  {
   "cell_type": "code",
   "execution_count": 4,
   "id": "5e7c07ff-cb3c-4847-87e6-3b1de67a6290",
   "metadata": {},
   "outputs": [
    {
     "name": "stdout",
     "output_type": "stream",
     "text": [
      "The List of squares [1, 4, 9, 16, 25]\n"
     ]
    }
   ],
   "source": [
    "L = [1,2,3,4,5]\n",
    "square = []\n",
    "for i in L:\n",
    "    square.append(i**2)\n",
    "print('The List of squares',square)"
   ]
  },
  {
   "cell_type": "code",
   "execution_count": 3,
   "id": "3fb7ea4a-ea97-4a87-b7b1-b52d08acb336",
   "metadata": {},
   "outputs": [
    {
     "name": "stdout",
     "output_type": "stream",
     "text": [
      "The List of squares [1, 4, 9, 16, 25]\n"
     ]
    }
   ],
   "source": [
    "L = [1,2,3,4,5]\n",
    "square = [i**2 for i in L]\n",
    "print('The List of squares',square)"
   ]
  },
  {
   "cell_type": "markdown",
   "id": "bfbf339b-15c1-4428-ba3c-01eb1329e19b",
   "metadata": {},
   "source": [
    "# Write a Python program to calculate the cube of only positive numbers from the given list. "
   ]
  },
  {
   "cell_type": "code",
   "execution_count": 5,
   "id": "06e6b5af-c086-4e0f-8919-adb0116210e6",
   "metadata": {},
   "outputs": [
    {
     "name": "stdout",
     "output_type": "stream",
     "text": [
      "The List of cubes [8, 27, 125]\n"
     ]
    }
   ],
   "source": [
    "L = [-1,2,3,-4,5]\n",
    "cube = []\n",
    "for i in L:\n",
    "    if i>0:\n",
    "        cube.append(i**3)\n",
    "print('The List of cubes',cube)"
   ]
  },
  {
   "cell_type": "markdown",
   "id": "fdcdccf4-e141-472a-9e62-b31961e35619",
   "metadata": {},
   "source": [
    "# Write a Python program to calculate the cube of only positive numbers from the given list using list comprehension"
   ]
  },
  {
   "cell_type": "code",
   "execution_count": 6,
   "id": "072cf640-6543-4bd0-aba6-1ef8124dd13a",
   "metadata": {},
   "outputs": [
    {
     "name": "stdout",
     "output_type": "stream",
     "text": [
      "[8, 27, 125]\n"
     ]
    }
   ],
   "source": [
    "L = [-1,2,3,-4,5]\n",
    "cube = [i**3 for i in L if i>0]\n",
    "print(cube)"
   ]
  },
  {
   "cell_type": "code",
   "execution_count": 7,
   "id": "5ca0757e-97b8-43ea-9282-5d9490ccc896",
   "metadata": {},
   "outputs": [
    {
     "name": "stdout",
     "output_type": "stream",
     "text": [
      "[0, 8, 64, 216, 512]\n"
     ]
    }
   ],
   "source": [
    "cube = []\n",
    "for i in range(10):\n",
    "    if i%2==0:\n",
    "        cube.append(i**3)\n",
    "print(cube)"
   ]
  },
  {
   "cell_type": "code",
   "execution_count": 8,
   "id": "7f4dd2a9-a3be-41ed-880d-2c0e492b0ebb",
   "metadata": {},
   "outputs": [
    {
     "name": "stdout",
     "output_type": "stream",
     "text": [
      "[0, 8, 64, 216, 512]\n"
     ]
    }
   ],
   "source": [
    "cube = [i**3 for i in range(10) if i%2==0]\n",
    "print(cube)"
   ]
  },
  {
   "cell_type": "markdown",
   "id": "b27b1e34-d701-45a4-8eeb-cb6967a24b99",
   "metadata": {},
   "source": [
    "# Converting of a list of string to list of integers"
   ]
  },
  {
   "cell_type": "code",
   "execution_count": 10,
   "id": "ea06d978-8663-4e2c-8a31-0200a786894f",
   "metadata": {},
   "outputs": [
    {
     "name": "stdout",
     "output_type": "stream",
     "text": [
      "['1', '2', '3', '4', '5']\n"
     ]
    }
   ],
   "source": [
    "L = ['1','2','3','4','5']\n",
    "res = [i for i in L]\n",
    "print(res)"
   ]
  },
  {
   "cell_type": "code",
   "execution_count": 11,
   "id": "4b2d46c0-2d4c-41d9-8fe2-0a7fd5c0a90a",
   "metadata": {},
   "outputs": [
    {
     "name": "stdout",
     "output_type": "stream",
     "text": [
      "[1, 2, 3, 4, 5]\n"
     ]
    }
   ],
   "source": [
    "L = ['1','2','3','4','5']\n",
    "res = [int(i) for i in L]\n",
    "print(res)"
   ]
  },
  {
   "cell_type": "markdown",
   "id": "e30ec385-d5bb-4de1-9a76-d9d8f63f0510",
   "metadata": {},
   "source": [
    "# Write a Python program to extract only first character from the given string using list comprehension"
   ]
  },
  {
   "cell_type": "code",
   "execution_count": 14,
   "id": "87ece78f-a45e-48a5-9067-4fe2ecfea0fb",
   "metadata": {},
   "outputs": [
    {
     "name": "stdout",
     "output_type": "stream",
     "text": [
      "['H', 'P', 'L', 'C']\n"
     ]
    }
   ],
   "source": [
    "l = ['Hello','Python','List','Comprehension']\n",
    "res = [i[0] for i in l]\n",
    "print(res)"
   ]
  },
  {
   "cell_type": "markdown",
   "id": "00e5e395-5b9b-4c0b-bff2-fedeffc3c41c",
   "metadata": {},
   "source": [
    "# fibonacci series using list comprehension"
   ]
  },
  {
   "cell_type": "code",
   "execution_count": 16,
   "id": "2f8f1764-06f4-49a0-9895-846b623aee7e",
   "metadata": {},
   "outputs": [
    {
     "name": "stdout",
     "output_type": "stream",
     "text": [
      "[1, 2, 3, 5, 8, 13]\n"
     ]
    }
   ],
   "source": [
    "f = [0,1,1,2,3,5,8,13]\n",
    "res = [f[i-1]+f[i-2] for i in range(2,len(f))]\n",
    "print(res)"
   ]
  },
  {
   "cell_type": "markdown",
   "id": "a63016fd-38fe-40d5-8699-c0a17575d95d",
   "metadata": {},
   "source": [
    " # Write a Python program to find out the divisors of the number using list comprehension"
   ]
  },
  {
   "cell_type": "code",
   "execution_count": 19,
   "id": "48fe1514-07b7-4692-85c0-d18b7e585a4a",
   "metadata": {},
   "outputs": [
    {
     "name": "stdin",
     "output_type": "stream",
     "text": [
      " 6\n"
     ]
    },
    {
     "name": "stdout",
     "output_type": "stream",
     "text": [
      "[1, 2, 3, 6]\n"
     ]
    }
   ],
   "source": [
    "n = int(input())\n",
    "res = [i for i in range(1,n+1) if n%i==0]\n",
    "print(res)"
   ]
  }
 ],
 "metadata": {
  "kernelspec": {
   "display_name": "Python 3 (ipykernel)",
   "language": "python",
   "name": "python3"
  },
  "language_info": {
   "codemirror_mode": {
    "name": "ipython",
    "version": 3
   },
   "file_extension": ".py",
   "mimetype": "text/x-python",
   "name": "python",
   "nbconvert_exporter": "python",
   "pygments_lexer": "ipython3",
   "version": "3.13.1"
  }
 },
 "nbformat": 4,
 "nbformat_minor": 5
}
