{
 "cells": [
  {
   "cell_type": "code",
   "execution_count": null,
   "id": "d34aedfa-ae13-4b06-ad75-e8f65d4e9790",
   "metadata": {},
   "outputs": [],
   "source": []
  }
 ],
 "metadata": {
  "kernelspec": {
   "display_name": "",
   "name": ""
  },
  "language_info": {
   "name": ""
  }
 },
 "nbformat": 4,
 "nbformat_minor": 5
}
