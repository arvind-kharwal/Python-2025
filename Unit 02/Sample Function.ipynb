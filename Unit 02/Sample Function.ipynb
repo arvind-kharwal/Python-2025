{
 "cells": [
  {
   "cell_type": "markdown",
   "id": "87b7c96c-121d-4cf0-a5a4-72b20260e43c",
   "metadata": {},
   "source": [
    "# Dice Roll Simulator"
   ]
  },
  {
   "cell_type": "code",
   "execution_count": 3,
   "id": "8ab91f1f-e926-407c-b156-7db6c6b3b2cc",
   "metadata": {},
   "outputs": [],
   "source": [
    "import random"
   ]
  },
  {
   "cell_type": "code",
   "execution_count": 4,
   "id": "c753dada-c065-4de5-b580-b8a82a72b87c",
   "metadata": {},
   "outputs": [
    {
     "name": "stdin",
     "output_type": "stream",
     "text": [
      "Press 1 to roll the dice or 0 to exit: \n",
      " 1\n"
     ]
    },
    {
     "name": "stdout",
     "output_type": "stream",
     "text": [
      "6\n"
     ]
    },
    {
     "name": "stdin",
     "output_type": "stream",
     "text": [
      "Press 1 to roll the dice or 0 to exit: \n",
      " 0\n"
     ]
    }
   ],
   "source": [
    "while int(input('Press 1 to roll the dice or 0 to exit: \\n')):\n",
    "    print(random.randint(1,6))"
   ]
  },
  {
   "cell_type": "markdown",
   "id": "9dcd5f09-ede8-4340-96b9-fec65e79c3ea",
   "metadata": {},
   "source": [
    "# Sample"
   ]
  },
  {
   "cell_type": "code",
   "execution_count": 5,
   "id": "18f85b29-4ccf-491f-bbf2-f780113591fd",
   "metadata": {},
   "outputs": [],
   "source": [
    "from random import sample "
   ]
  },
  {
   "cell_type": "code",
   "execution_count": null,
   "id": "460dd41a-1f23-4e99-b9db-3e1a1841c32e",
   "metadata": {},
   "outputs": [],
   "source": []
  },
  {
   "cell_type": "code",
   "execution_count": null,
   "id": "904bbf1a-980b-475d-9021-b899f085d8e2",
   "metadata": {},
   "outputs": [],
   "source": []
  }
 ],
 "metadata": {
  "kernelspec": {
   "display_name": "Python 3 (ipykernel)",
   "language": "python",
   "name": "python3"
  },
  "language_info": {
   "codemirror_mode": {
    "name": "ipython",
    "version": 3
   },
   "file_extension": ".py",
   "mimetype": "text/x-python",
   "name": "python",
   "nbconvert_exporter": "python",
   "pygments_lexer": "ipython3",
   "version": "3.13.1"
  }
 },
 "nbformat": 4,
 "nbformat_minor": 5
}
