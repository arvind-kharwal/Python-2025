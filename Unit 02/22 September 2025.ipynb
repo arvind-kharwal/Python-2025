{
 "cells": [
  {
   "cell_type": "code",
   "execution_count": 1,
   "id": "5a576cbb-516d-4ac8-97a8-65f6de3c3fce",
   "metadata": {},
   "outputs": [
    {
     "name": "stdin",
     "output_type": "stream",
     "text": [
      " 3\n",
      " 10\n",
      " 20\n",
      " 30\n"
     ]
    },
    {
     "name": "stdout",
     "output_type": "stream",
     "text": [
      "[10, 20, 30]\n"
     ]
    }
   ],
   "source": [
    "L = []\n",
    "n = int(input())\n",
    "for i in range(n):\n",
    "    a = int(input())\n",
    "    L.append(a)\n",
    "print(L)"
   ]
  },
  {
   "cell_type": "code",
   "execution_count": 4,
   "id": "06786c90-dec8-460e-bc93-54858119993d",
   "metadata": {},
   "outputs": [
    {
     "name": "stdin",
     "output_type": "stream",
     "text": [
      " 3\n",
      " -2\n",
      " 2\n",
      " 9\n"
     ]
    },
    {
     "name": "stdout",
     "output_type": "stream",
     "text": [
      "[-2, 2, 9]\n",
      "11\n"
     ]
    }
   ],
   "source": [
    "L = []\n",
    "n = int(input())\n",
    "for i in range(n):\n",
    "    a = int(input())\n",
    "    L.append(a)\n",
    "print(L)\n",
    "sum = 0\n",
    "for i in L:\n",
    "    if i>0:\n",
    "        sum+=i\n",
    "print(sum)"
   ]
  }
 ],
 "metadata": {
  "kernelspec": {
   "display_name": "Python 3 (ipykernel)",
   "language": "python",
   "name": "python3"
  },
  "language_info": {
   "codemirror_mode": {
    "name": "ipython",
    "version": 3
   },
   "file_extension": ".py",
   "mimetype": "text/x-python",
   "name": "python",
   "nbconvert_exporter": "python",
   "pygments_lexer": "ipython3",
   "version": "3.13.1"
  }
 },
 "nbformat": 4,
 "nbformat_minor": 5
}
