{
 "cells": [
  {
   "cell_type": "code",
   "execution_count": 1,
   "id": "f09dd51c-e97d-475e-8cbb-eefaf3048d70",
   "metadata": {},
   "outputs": [
    {
     "name": "stdout",
     "output_type": "stream",
     "text": [
      "[1, 4, 6, 7, 23, 28]\n"
     ]
    }
   ],
   "source": [
    "l = [1,4,6,28,23,7]\n",
    "l.sort()\n",
    "print(l)"
   ]
  },
  {
   "cell_type": "code",
   "execution_count": 2,
   "id": "c94bb6ad-dbc1-46a0-8c26-a6d7da94b3d5",
   "metadata": {},
   "outputs": [
    {
     "name": "stdout",
     "output_type": "stream",
     "text": [
      "None\n"
     ]
    }
   ],
   "source": [
    "l = [1,4,6,28,23,7]\n",
    "l1 = l.sort()\n",
    "print(l1)"
   ]
  },
  {
   "cell_type": "code",
   "execution_count": 3,
   "id": "9d01deda-500e-43fa-a70b-55b756c37802",
   "metadata": {},
   "outputs": [
    {
     "name": "stdout",
     "output_type": "stream",
     "text": [
      "[1, 4, 6, 7, 23, 28]\n"
     ]
    }
   ],
   "source": [
    "l = [1,4,6,28,23,7]\n",
    "l1 = sorted(l)\n",
    "print(l1)"
   ]
  },
  {
   "cell_type": "code",
   "execution_count": 5,
   "id": "2951f98c-19ab-435b-9937-2228c20c2e33",
   "metadata": {},
   "outputs": [
    {
     "name": "stdout",
     "output_type": "stream",
     "text": [
      "[28, 23, 7, 6, 4, 1]\n"
     ]
    }
   ],
   "source": [
    "l = [1,4,6,28,23,7]\n",
    "l1 = sorted(l,reverse=True)\n",
    "print(l1)"
   ]
  },
  {
   "cell_type": "code",
   "execution_count": 8,
   "id": "2353ef34-3462-4507-b4fd-18c411d8cd3b",
   "metadata": {},
   "outputs": [
    {
     "name": "stdout",
     "output_type": "stream",
     "text": [
      "[1, 2, 3, 2, 4]\n"
     ]
    }
   ],
   "source": [
    "l = [1,2,3]\n",
    "l[3:5] = [2,4]\n",
    "print(l)"
   ]
  },
  {
   "cell_type": "code",
   "execution_count": 12,
   "id": "6431e09c-153a-41d1-8328-ff2c081bc16a",
   "metadata": {},
   "outputs": [
    {
     "name": "stdout",
     "output_type": "stream",
     "text": [
      "[1, 2, 3, 4, 5, 6, 7]\n",
      "7\n"
     ]
    }
   ],
   "source": [
    "l = [1,2,3]\n",
    "l[3:5] = [4,5,6,7]\n",
    "print(l)\n",
    "print(len(l))"
   ]
  },
  {
   "cell_type": "code",
   "execution_count": 13,
   "id": "ca9e647a-e629-4423-95c1-abcd06bde829",
   "metadata": {},
   "outputs": [
    {
     "name": "stdout",
     "output_type": "stream",
     "text": [
      "[1, 2, 3, 4]\n",
      "4\n"
     ]
    }
   ],
   "source": [
    "l = [1,2,3]\n",
    "l[3:5] = [4]\n",
    "print(l)\n",
    "print(len(l))"
   ]
  }
 ],
 "metadata": {
  "kernelspec": {
   "display_name": "Python 3 (ipykernel)",
   "language": "python",
   "name": "python3"
  },
  "language_info": {
   "codemirror_mode": {
    "name": "ipython",
    "version": 3
   },
   "file_extension": ".py",
   "mimetype": "text/x-python",
   "name": "python",
   "nbconvert_exporter": "python",
   "pygments_lexer": "ipython3",
   "version": "3.13.1"
  }
 },
 "nbformat": 4,
 "nbformat_minor": 5
}
