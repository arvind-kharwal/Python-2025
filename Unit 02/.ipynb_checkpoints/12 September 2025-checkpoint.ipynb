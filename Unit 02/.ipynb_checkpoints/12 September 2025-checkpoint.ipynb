{
 "cells": [
  {
   "cell_type": "markdown",
   "id": "b9527760-3ffb-4b70-9d5a-30ec3b8ddacb",
   "metadata": {},
   "source": [
    "### Python program to check whether the given number is prime or not."
   ]
  },
  {
   "cell_type": "code",
   "execution_count": null,
   "id": "e3025b94-253a-46d5-92cc-279c57317782",
   "metadata": {},
   "outputs": [],
   "source": [
    "flag = 0\n",
    "n = int(input())\n",
    "if n==0 or n==1:\n",
    "    flag = 1\n",
    "else:\n",
    "    for i in range(2,n//2+1):\n",
    "        if n%i==0:\n",
    "            flag = 1\n",
    "            break\n",
    "\n",
    "if flag==0:\n",
    "    print(n,'is prime')\n",
    "else:\n",
    "    print(n,'is not prime')"
   ]
  },
  {
   "cell_type": "markdown",
   "id": "356bc2af-f5dd-4836-ad80-13fd546f400c",
   "metadata": {},
   "source": [
    "### Python program to check whether the given number is perfect or not."
   ]
  },
  {
   "cell_type": "code",
   "execution_count": 9,
   "id": "6312ff6b-8963-4c2a-a846-4556e40b4e84",
   "metadata": {},
   "outputs": [
    {
     "name": "stdin",
     "output_type": "stream",
     "text": [
      " 6\n"
     ]
    },
    {
     "name": "stdout",
     "output_type": "stream",
     "text": [
      "6 is not perfect\n"
     ]
    }
   ],
   "source": [
    "sum = 0\n",
    "n = int(input())\n",
    "for i in range(1,n+1):\n",
    "    if n%i==0:\n",
    "        sum +=i\n",
    "\n",
    "if sum == n:\n",
    "    print(n,'is perfect')\n",
    "else:\n",
    "    print(n,'is not perfect')    "
   ]
  }
 ],
 "metadata": {
  "kernelspec": {
   "display_name": "Python 3 (ipykernel)",
   "language": "python",
   "name": "python3"
  },
  "language_info": {
   "codemirror_mode": {
    "name": "ipython",
    "version": 3
   },
   "file_extension": ".py",
   "mimetype": "text/x-python",
   "name": "python",
   "nbconvert_exporter": "python",
   "pygments_lexer": "ipython3",
   "version": "3.13.1"
  }
 },
 "nbformat": 4,
 "nbformat_minor": 5
}
