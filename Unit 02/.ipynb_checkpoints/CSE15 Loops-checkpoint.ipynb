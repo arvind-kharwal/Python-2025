{
 "cells": [
  {
   "cell_type": "code",
   "execution_count": null,
   "id": "d6353b47-b992-4127-aa50-a87d543f8579",
   "metadata": {},
   "outputs": [],
   "source": [
    "for i in range(1,6):\n",
    "\n"
   ]
  }
 ],
 "metadata": {
  "kernelspec": {
   "display_name": "",
   "name": ""
  },
  "language_info": {
   "name": ""
  }
 },
 "nbformat": 4,
 "nbformat_minor": 5
}
