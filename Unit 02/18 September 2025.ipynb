{
 "cells": [
  {
   "cell_type": "code",
   "execution_count": 3,
   "id": "154bf78c-cc2f-4741-99da-bc1b71a987e9",
   "metadata": {},
   "outputs": [
    {
     "name": "stdout",
     "output_type": "stream",
     "text": [
      "1\n",
      "153\n",
      "370\n",
      "371\n",
      "407\n"
     ]
    }
   ],
   "source": [
    "for i in range(1,501):\n",
    "    a  = i%10\n",
    "    b = i//10\n",
    "    b = b%10\n",
    "    c = i//100\n",
    "    if((a**3)+(b**3)+(c**3)==i):\n",
    "        print(i)\n",
    "fll\n"
   ]
  },
  {
   "cell_type": "code",
   "execution_count": 4,
   "id": "9f894601-12d4-4b6e-bc80-82e2a3b30347",
   "metadata": {},
   "outputs": [
    {
     "name": "stdin",
     "output_type": "stream",
     "text": [
      "Enter The number:  11\n"
     ]
    },
    {
     "name": "stdout",
     "output_type": "stream",
     "text": [
      "11 is Prime\n"
     ]
    }
   ],
   "source": [
    "flag = 0\n",
    "n = int(input('Enter The number: '))\n",
    "if n==0 or n==1:\n",
    "    flag = 1\n",
    "else:\n",
    "    for i in range(2,n//2+1):\n",
    "        if n%i==0:\n",
    "            flag = 1\n",
    "if flag ==0:\n",
    "    print(n,'is Prime')\n",
    "else:\n",
    "    print(n,'is not Prime')"
   ]
  },
  {
   "cell_type": "code",
   "execution_count": 7,
   "id": "c0372a9f-c68d-4834-af12-d45e61d76180",
   "metadata": {},
   "outputs": [
    {
     "name": "stdin",
     "output_type": "stream",
     "text": [
      "Enter The number:  28\n"
     ]
    },
    {
     "name": "stdout",
     "output_type": "stream",
     "text": [
      "28 is Perfect\n"
     ]
    }
   ],
   "source": [
    "sum =0\n",
    "n = int(input('Enter The number: '))\n",
    "for i in range(1,n//2+1):\n",
    "    if n%i==0:\n",
    "        sum +=i\n",
    "\n",
    "if sum==n:\n",
    "    print(n,'is Perfect')\n",
    "else:\n",
    "    print(n,'is not Perfect')"
   ]
  }
 ],
 "metadata": {
  "kernelspec": {
   "display_name": "Python 3 (ipykernel)",
   "language": "python",
   "name": "python3"
  },
  "language_info": {
   "codemirror_mode": {
    "name": "ipython",
    "version": 3
   },
   "file_extension": ".py",
   "mimetype": "text/x-python",
   "name": "python",
   "nbconvert_exporter": "python",
   "pygments_lexer": "ipython3",
   "version": "3.13.1"
  }
 },
 "nbformat": 4,
 "nbformat_minor": 5
}
