{
 "cells": [
  {
   "cell_type": "code",
   "execution_count": 1,
   "id": "c477014e-cc76-4377-aab1-862db9c78c46",
   "metadata": {},
   "outputs": [
    {
     "name": "stdout",
     "output_type": "stream",
     "text": [
      "Arvind\n"
     ]
    }
   ],
   "source": [
    "name = 'Arvind'\n",
    "print('{}'.format(name))"
   ]
  },
  {
   "cell_type": "code",
   "execution_count": 2,
   "id": "113d4675-59a4-4615-a599-9798a50bb789",
   "metadata": {},
   "outputs": [
    {
     "name": "stdout",
     "output_type": "stream",
     "text": [
      "Arvind      \n"
     ]
    }
   ],
   "source": [
    "name = 'Arvind'\n",
    "print('{:<12}'.format(name))"
   ]
  },
  {
   "cell_type": "code",
   "execution_count": 3,
   "id": "845af4cb-9d29-4e7b-bed8-ab84f5c49989",
   "metadata": {},
   "outputs": [
    {
     "name": "stdout",
     "output_type": "stream",
     "text": [
      "|Arvind      |\n"
     ]
    }
   ],
   "source": [
    "name = 'Arvind'\n",
    "print('|{:<12}|'.format(name))"
   ]
  },
  {
   "cell_type": "code",
   "execution_count": 10,
   "id": "0335c946-1ae3-4224-95b6-438f5808117d",
   "metadata": {},
   "outputs": [
    {
     "name": "stdout",
     "output_type": "stream",
     "text": [
      "|10            |\n"
     ]
    }
   ],
   "source": [
    "n = 10\n",
    "print('|{:<14}|'.format(n))"
   ]
  },
  {
   "cell_type": "code",
   "execution_count": 12,
   "id": "4d838c34-85e7-4eae-b5b4-b4479b4e2f47",
   "metadata": {},
   "outputs": [
    {
     "name": "stdout",
     "output_type": "stream",
     "text": [
      "|------------10|\n"
     ]
    }
   ],
   "source": [
    "n = 10\n",
    "print('|{:>14}|'.format(n))"
   ]
  },
  {
   "cell_type": "code",
   "execution_count": 16,
   "id": "e26995ac-849b-436e-9e26-b533a8575beb",
   "metadata": {},
   "outputs": [
    {
     "name": "stdout",
     "output_type": "stream",
     "text": [
      "|      10      |\n"
     ]
    }
   ],
   "source": [
    "n = 10\n",
    "print('|{:^14}|'.format(n))"
   ]
  },
  {
   "cell_type": "code",
   "execution_count": 15,
   "id": "4b92ebec-f593-4cb2-aae2-fbfd0f728348",
   "metadata": {},
   "outputs": [
    {
     "name": "stdout",
     "output_type": "stream",
     "text": [
      "|------10------|\n"
     ]
    }
   ],
   "source": [
    "n = 10\n",
    "print('|{:-^14}|'.format(n))"
   ]
  },
  {
   "cell_type": "code",
   "execution_count": 18,
   "id": "655ce8bf-326c-4edb-a3eb-07c37f860b5a",
   "metadata": {},
   "outputs": [
    {
     "name": "stdout",
     "output_type": "stream",
     "text": [
      "I know c,c++ and Python\n"
     ]
    }
   ],
   "source": [
    "print('I know {},{} and {}'.format('c','c++','Python'))"
   ]
  },
  {
   "cell_type": "code",
   "execution_count": 26,
   "id": "92782561-f95f-4f25-a538-42e3c27f67b1",
   "metadata": {},
   "outputs": [
    {
     "name": "stdout",
     "output_type": "stream",
     "text": [
      "|c         |       c++|  Python  |\n"
     ]
    }
   ],
   "source": [
    "print('|{:<10}|{:>10}|{:^10}|'.format('c','c++','Python'))"
   ]
  },
  {
   "cell_type": "code",
   "execution_count": 29,
   "id": "158b9cb0-3a8b-40c8-94e7-d4a08bcb1f9f",
   "metadata": {},
   "outputs": [
    {
     "name": "stdout",
     "output_type": "stream",
     "text": [
      "101\n"
     ]
    }
   ],
   "source": [
    "print('{0:b}'.format(5))"
   ]
  },
  {
   "cell_type": "code",
   "execution_count": 30,
   "id": "5af35269-aa3c-4812-8ef9-6aa21870be9b",
   "metadata": {},
   "outputs": [
    {
     "name": "stdout",
     "output_type": "stream",
     "text": [
      "11\n"
     ]
    }
   ],
   "source": [
    "v = format(3,'b')\n",
    "print(v)"
   ]
  },
  {
   "cell_type": "code",
   "execution_count": 38,
   "id": "38adc4e2-b82c-4cc8-b291-af46365c28b7",
   "metadata": {},
   "outputs": [
    {
     "ename": "ValueError",
     "evalue": "Invalid format specifier '*10.2f' for object of type 'float'",
     "output_type": "error",
     "traceback": [
      "\u001b[1;31m---------------------------------------------------------------------------\u001b[0m",
      "\u001b[1;31mValueError\u001b[0m                                Traceback (most recent call last)",
      "Cell \u001b[1;32mIn[38], line 2\u001b[0m\n\u001b[0;32m      1\u001b[0m value \u001b[38;5;241m=\u001b[39m \u001b[38;5;241m123.45\u001b[39m\n\u001b[1;32m----> 2\u001b[0m n1 \u001b[38;5;241m=\u001b[39m \u001b[38;5;124;43m\"\u001b[39;49m\u001b[38;5;124;43m{\u001b[39;49m\u001b[38;5;124;43m:*10.2f}\u001b[39;49m\u001b[38;5;124;43m\"\u001b[39;49m\u001b[38;5;241;43m.\u001b[39;49m\u001b[43mformat\u001b[49m\u001b[43m(\u001b[49m\u001b[43mvalue\u001b[49m\u001b[43m)\u001b[49m\n\u001b[0;32m      3\u001b[0m \u001b[38;5;28mprint\u001b[39m(n1)\n",
      "\u001b[1;31mValueError\u001b[0m: Invalid format specifier '*10.2f' for object of type 'float'"
     ]
    }
   ],
   "source": [
    "value = 123.45\n",
    "n1 = \"{:10.2f}\".format(value)\n",
    "print(n1)"
   ]
  },
  {
   "cell_type": "code",
   "execution_count": 44,
   "id": "aa08db0f-5946-46fe-8645-125a229961b5",
   "metadata": {},
   "outputs": [
    {
     "name": "stdout",
     "output_type": "stream",
     "text": [
      "19\n"
     ]
    }
   ],
   "source": [
    "text = \"hello world, hello wython\"\n",
    "i1 = text.rfind(\"w\",2,20)\n",
    "print(i1)"
   ]
  }
 ],
 "metadata": {
  "kernelspec": {
   "display_name": "Python 3 (ipykernel)",
   "language": "python",
   "name": "python3"
  },
  "language_info": {
   "codemirror_mode": {
    "name": "ipython",
    "version": 3
   },
   "file_extension": ".py",
   "mimetype": "text/x-python",
   "name": "python",
   "nbconvert_exporter": "python",
   "pygments_lexer": "ipython3",
   "version": "3.13.1"
  }
 },
 "nbformat": 4,
 "nbformat_minor": 5
}
