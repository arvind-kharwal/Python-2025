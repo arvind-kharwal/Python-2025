{
 "cells": [
  {
   "cell_type": "code",
   "execution_count": 1,
   "id": "c477014e-cc76-4377-aab1-862db9c78c46",
   "metadata": {},
   "outputs": [
    {
     "name": "stdout",
     "output_type": "stream",
     "text": [
      "Arvind\n"
     ]
    }
   ],
   "source": [
    "name = 'Arvind'\n",
    "print('{}'.format(name))"
   ]
  },
  {
   "cell_type": "code",
   "execution_count": 2,
   "id": "113d4675-59a4-4615-a599-9798a50bb789",
   "metadata": {},
   "outputs": [
    {
     "name": "stdout",
     "output_type": "stream",
     "text": [
      "Arvind      \n"
     ]
    }
   ],
   "source": [
    "name = 'Arvind'\n",
    "print('{:<12}'.format(name))"
   ]
  },
  {
   "cell_type": "code",
   "execution_count": 3,
   "id": "845af4cb-9d29-4e7b-bed8-ab84f5c49989",
   "metadata": {},
   "outputs": [
    {
     "name": "stdout",
     "output_type": "stream",
     "text": [
      "|Arvind      |\n"
     ]
    }
   ],
   "source": [
    "name = 'Arvind'\n",
    "print('|{:<12}|'.format(name))"
   ]
  },
  {
   "cell_type": "code",
   "execution_count": 10,
   "id": "0335c946-1ae3-4224-95b6-438f5808117d",
   "metadata": {},
   "outputs": [
    {
     "name": "stdout",
     "output_type": "stream",
     "text": [
      "|10            |\n"
     ]
    }
   ],
   "source": [
    "n = 10\n",
    "print('|{:<14}|'.format(n))"
   ]
  },
  {
   "cell_type": "code",
   "execution_count": 12,
   "id": "4d838c34-85e7-4eae-b5b4-b4479b4e2f47",
   "metadata": {},
   "outputs": [
    {
     "name": "stdout",
     "output_type": "stream",
     "text": [
      "|------------10|\n"
     ]
    }
   ],
   "source": [
    "n = 10\n",
    "print('|{:>14}|'.format(n))"
   ]
  }
 ],
 "metadata": {
  "kernelspec": {
   "display_name": "Python 3 (ipykernel)",
   "language": "python",
   "name": "python3"
  },
  "language_info": {
   "codemirror_mode": {
    "name": "ipython",
    "version": 3
   },
   "file_extension": ".py",
   "mimetype": "text/x-python",
   "name": "python",
   "nbconvert_exporter": "python",
   "pygments_lexer": "ipython3",
   "version": "3.13.1"
  }
 },
 "nbformat": 4,
 "nbformat_minor": 5
}
