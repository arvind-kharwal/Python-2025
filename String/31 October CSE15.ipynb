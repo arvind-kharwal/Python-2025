{
 "cells": [
  {
   "cell_type": "code",
   "execution_count": 1,
   "id": "6a8d6f0b-7fc3-42d2-9e7e-078a8abfda04",
   "metadata": {},
   "outputs": [
    {
     "name": "stdout",
     "output_type": "stream",
     "text": [
      "Python\n"
     ]
    }
   ],
   "source": [
    "name = 'Python'\n",
    "print('{}'.format(name))"
   ]
  },
  {
   "cell_type": "code",
   "execution_count": 2,
   "id": "1980fc64-981d-4860-9a36-ebc776c9c3b0",
   "metadata": {},
   "outputs": [
    {
     "name": "stdout",
     "output_type": "stream",
     "text": [
      "Python      \n"
     ]
    }
   ],
   "source": [
    "name = 'Python'\n",
    "print('{:<12}'.format(name))"
   ]
  },
  {
   "cell_type": "code",
   "execution_count": 3,
   "id": "25133b51-e6f6-4ce6-82f4-ca463fcb3d3d",
   "metadata": {},
   "outputs": [
    {
     "name": "stdout",
     "output_type": "stream",
     "text": [
      "|Python      |\n"
     ]
    }
   ],
   "source": [
    "name = 'Python'\n",
    "print('|{:<12}|'.format(name))"
   ]
  },
  {
   "cell_type": "code",
   "execution_count": 4,
   "id": "c104df3d-3b95-49f4-9a69-b07ca71b3e03",
   "metadata": {},
   "outputs": [
    {
     "name": "stdout",
     "output_type": "stream",
     "text": [
      "|Python------|\n"
     ]
    }
   ],
   "source": [
    "name = 'Python'\n",
    "print('|{:-<12}|'.format(name))"
   ]
  },
  {
   "cell_type": "code",
   "execution_count": 5,
   "id": "a3a081aa-d3ff-4e1d-bbc8-91c7ef9d2a38",
   "metadata": {},
   "outputs": [
    {
     "name": "stdout",
     "output_type": "stream",
     "text": [
      "|      Python|\n"
     ]
    }
   ],
   "source": [
    "name = 'Python'\n",
    "print('|{:>12}|'.format(name))"
   ]
  },
  {
   "cell_type": "code",
   "execution_count": 6,
   "id": "d1d7a9d4-4c84-4adc-9453-6a0b3f515710",
   "metadata": {},
   "outputs": [
    {
     "name": "stdout",
     "output_type": "stream",
     "text": [
      "|------Python|\n"
     ]
    }
   ],
   "source": [
    "name = 'Python'\n",
    "print('|{:->12}|'.format(name))"
   ]
  },
  {
   "cell_type": "code",
   "execution_count": 7,
   "id": "4369226b-bb70-4734-b9f3-31931ac47350",
   "metadata": {},
   "outputs": [
    {
     "name": "stdout",
     "output_type": "stream",
     "text": [
      "|   Python   |\n"
     ]
    }
   ],
   "source": [
    "name = 'Python'\n",
    "print('|{:^12}|'.format(name))"
   ]
  },
  {
   "cell_type": "code",
   "execution_count": 8,
   "id": "3061bc59-1892-4d35-9e77-0b3f7a4fca9a",
   "metadata": {},
   "outputs": [
    {
     "name": "stdout",
     "output_type": "stream",
     "text": [
      "|---Python---|\n"
     ]
    }
   ],
   "source": [
    "name = 'Python'\n",
    "print('|{:-^12}|'.format(name))"
   ]
  }
 ],
 "metadata": {
  "kernelspec": {
   "display_name": "Python 3 (ipykernel)",
   "language": "python",
   "name": "python3"
  },
  "language_info": {
   "codemirror_mode": {
    "name": "ipython",
    "version": 3
   },
   "file_extension": ".py",
   "mimetype": "text/x-python",
   "name": "python",
   "nbconvert_exporter": "python",
   "pygments_lexer": "ipython3",
   "version": "3.13.1"
  }
 },
 "nbformat": 4,
 "nbformat_minor": 5
}
