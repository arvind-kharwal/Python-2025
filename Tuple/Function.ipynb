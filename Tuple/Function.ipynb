{
 "cells": [
  {
   "cell_type": "code",
   "execution_count": 1,
   "id": "f97ad217-a612-4b0e-b161-f8cd04dda190",
   "metadata": {},
   "outputs": [
    {
     "name": "stdout",
     "output_type": "stream",
     "text": [
      "Hello\n"
     ]
    }
   ],
   "source": [
    "def fun1():\n",
    "    ''' This is a function ''' \n",
    "    print('Hello')\n",
    "\n",
    "fun1()"
   ]
  },
  {
   "cell_type": "code",
   "execution_count": 3,
   "id": "8e0d2c58-b7a8-487e-b2c5-361c6942c463",
   "metadata": {},
   "outputs": [
    {
     "name": "stdout",
     "output_type": "stream",
     "text": [
      "Hello Arvind\n"
     ]
    }
   ],
   "source": [
    "def fun1(x):\n",
    "    ''' This is a function ''' \n",
    "    print('Hello',x)\n",
    "\n",
    "fun1('Arvind')"
   ]
  },
  {
   "cell_type": "code",
   "execution_count": 7,
   "id": "a9d48e0d-5e0c-4657-a7fa-3d0d698c1ce6",
   "metadata": {},
   "outputs": [
    {
     "name": "stdout",
     "output_type": "stream",
     "text": [
      "('The cube is of', 3, 'is', 27)\n"
     ]
    }
   ],
   "source": [
    "def cube(x):\n",
    "    ''' Cube of number'''\n",
    "    return('The cube is of',x,'is',x**3)\n",
    "\n",
    "r= cube(3)\n"
   ]
  },
  {
   "cell_type": "code",
   "execution_count": 16,
   "id": "8259f0f4-abca-4fb9-8099-735a51d00f6e",
   "metadata": {},
   "outputs": [
    {
     "name": "stdout",
     "output_type": "stream",
     "text": [
      "The area is 12.566370614359172\n"
     ]
    }
   ],
   "source": [
    "from math import pi\n",
    "def area(x):\n",
    "    ''' The area of Circle'''\n",
    "    a = pi*(x**2)\n",
    "    print(f\"The area is {a}\")\n",
    "\n",
    "area(2)"
   ]
  },
  {
   "cell_type": "code",
   "execution_count": 17,
   "id": "f639a382-2c4e-4a9a-a715-0438f3ccbb97",
   "metadata": {},
   "outputs": [
    {
     "ename": "TypeError",
     "evalue": "fun2() missing 1 required positional argument: 'x'",
     "output_type": "error",
     "traceback": [
      "\u001b[1;31m---------------------------------------------------------------------------\u001b[0m",
      "\u001b[1;31mTypeError\u001b[0m                                 Traceback (most recent call last)",
      "Cell \u001b[1;32mIn[17], line 4\u001b[0m\n\u001b[0;32m      1\u001b[0m \u001b[38;5;28;01mdef\u001b[39;00m\u001b[38;5;250m \u001b[39m\u001b[38;5;21mfun2\u001b[39m(x):\n\u001b[0;32m      2\u001b[0m     \u001b[38;5;28mprint\u001b[39m(\u001b[38;5;124m'\u001b[39m\u001b[38;5;124mThe x is \u001b[39m\u001b[38;5;124m'\u001b[39m,x)\n\u001b[1;32m----> 4\u001b[0m \u001b[43mfun2\u001b[49m\u001b[43m(\u001b[49m\u001b[43m)\u001b[49m\n",
      "\u001b[1;31mTypeError\u001b[0m: fun2() missing 1 required positional argument: 'x'"
     ]
    }
   ],
   "source": [
    "def fun2(x):\n",
    "    print('The x is ',x)\n",
    "\n",
    "fun2()"
   ]
  },
  {
   "cell_type": "code",
   "execution_count": 19,
   "id": "a2189a51-8d97-4feb-a3d7-b7580b4267fe",
   "metadata": {},
   "outputs": [
    {
     "name": "stdout",
     "output_type": "stream",
     "text": [
      "The a and b 2 3.4\n"
     ]
    }
   ],
   "source": [
    "def fun2(a,b):\n",
    "    print('The a and b',a,b)\n",
    "\n",
    "fun2(2,3.4)"
   ]
  }
 ],
 "metadata": {
  "kernelspec": {
   "display_name": "Python 3 (ipykernel)",
   "language": "python",
   "name": "python3"
  },
  "language_info": {
   "codemirror_mode": {
    "name": "ipython",
    "version": 3
   },
   "file_extension": ".py",
   "mimetype": "text/x-python",
   "name": "python",
   "nbconvert_exporter": "python",
   "pygments_lexer": "ipython3",
   "version": "3.13.1"
  }
 },
 "nbformat": 4,
 "nbformat_minor": 5
}
