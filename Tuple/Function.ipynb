{
 "cells": [
  {
   "cell_type": "code",
   "execution_count": null,
   "id": "f97ad217-a612-4b0e-b161-f8cd04dda190",
   "metadata": {},
   "outputs": [],
   "source": []
  }
 ],
 "metadata": {
  "kernelspec": {
   "display_name": "",
   "name": ""
  },
  "language_info": {
   "name": ""
  }
 },
 "nbformat": 4,
 "nbformat_minor": 5
}
